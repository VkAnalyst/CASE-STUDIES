{
 "cells": [
  {
   "cell_type": "markdown",
   "metadata": {},
   "source": [
    "## ANOVA"
   ]
  },
  {
   "cell_type": "markdown",
   "metadata": {},
   "source": [
    "### Objectives:\n",
    "1. Explain the dataset\n",
    "2. Check the summary statistics and discuss the max, min, avg, median, and percentiles.\n",
    "3. The manager wants to find out whether the same amount was spent for the three advertisements `(TV , Radio and Newspaper)`. Comment on your findings."
   ]
  },
  {
   "cell_type": "markdown",
   "metadata": {},
   "source": [
    "### Importing relevant libraries"
   ]
  },
  {
   "cell_type": "code",
   "execution_count": 1,
   "metadata": {
    "executionInfo": {
     "elapsed": 10,
     "status": "ok",
     "timestamp": 1639835581072,
     "user": {
      "displayName": "Amal VN",
      "photoUrl": "https://lh3.googleusercontent.com/a-/AOh14Giqfv8rYeyOS-3h8egmuxipOyEmwoUQjixzxi6S=s64",
      "userId": "06605838277080622472"
     },
     "user_tz": -330
    },
    "id": "-cvF8FNUxlLs"
   },
   "outputs": [],
   "source": [
    "import pandas as pd\n",
    "import numpy as np\n",
    "from scipy import stats"
   ]
  },
  {
   "cell_type": "markdown",
   "metadata": {},
   "source": [
    "### Reading the dataset"
   ]
  },
  {
   "cell_type": "code",
   "execution_count": 7,
   "metadata": {
    "colab": {
     "base_uri": "https://localhost:8080/",
     "height": 363
    },
    "executionInfo": {
     "elapsed": 501,
     "status": "ok",
     "timestamp": 1639835093133,
     "user": {
      "displayName": "Amal VN",
      "photoUrl": "https://lh3.googleusercontent.com/a-/AOh14Giqfv8rYeyOS-3h8egmuxipOyEmwoUQjixzxi6S=s64",
      "userId": "06605838277080622472"
     },
     "user_tz": -330
    },
    "id": "iLdnzq7wxvjL",
    "outputId": "e4f076dd-1f06-4108-b080-9c734e566bb9"
   },
   "outputs": [
    {
     "data": {
      "text/html": [
       "<div>\n",
       "<style scoped>\n",
       "    .dataframe tbody tr th:only-of-type {\n",
       "        vertical-align: middle;\n",
       "    }\n",
       "\n",
       "    .dataframe tbody tr th {\n",
       "        vertical-align: top;\n",
       "    }\n",
       "\n",
       "    .dataframe thead th {\n",
       "        text-align: right;\n",
       "    }\n",
       "</style>\n",
       "<table border=\"1\" class=\"dataframe\">\n",
       "  <thead>\n",
       "    <tr style=\"text-align: right;\">\n",
       "      <th></th>\n",
       "      <th>Unnamed: 0</th>\n",
       "      <th>TV</th>\n",
       "      <th>Radio</th>\n",
       "      <th>Newspaper</th>\n",
       "      <th>Sales</th>\n",
       "    </tr>\n",
       "  </thead>\n",
       "  <tbody>\n",
       "    <tr>\n",
       "      <th>0</th>\n",
       "      <td>1</td>\n",
       "      <td>230.1</td>\n",
       "      <td>37.8</td>\n",
       "      <td>69.2</td>\n",
       "      <td>22.1</td>\n",
       "    </tr>\n",
       "    <tr>\n",
       "      <th>1</th>\n",
       "      <td>2</td>\n",
       "      <td>44.5</td>\n",
       "      <td>39.3</td>\n",
       "      <td>45.1</td>\n",
       "      <td>10.4</td>\n",
       "    </tr>\n",
       "    <tr>\n",
       "      <th>2</th>\n",
       "      <td>3</td>\n",
       "      <td>17.2</td>\n",
       "      <td>45.9</td>\n",
       "      <td>69.3</td>\n",
       "      <td>9.3</td>\n",
       "    </tr>\n",
       "    <tr>\n",
       "      <th>3</th>\n",
       "      <td>4</td>\n",
       "      <td>151.5</td>\n",
       "      <td>41.3</td>\n",
       "      <td>58.5</td>\n",
       "      <td>18.5</td>\n",
       "    </tr>\n",
       "    <tr>\n",
       "      <th>4</th>\n",
       "      <td>5</td>\n",
       "      <td>180.8</td>\n",
       "      <td>10.8</td>\n",
       "      <td>58.4</td>\n",
       "      <td>12.9</td>\n",
       "    </tr>\n",
       "  </tbody>\n",
       "</table>\n",
       "</div>"
      ],
      "text/plain": [
       "   Unnamed: 0     TV  Radio  Newspaper  Sales\n",
       "0           1  230.1   37.8       69.2   22.1\n",
       "1           2   44.5   39.3       45.1   10.4\n",
       "2           3   17.2   45.9       69.3    9.3\n",
       "3           4  151.5   41.3       58.5   18.5\n",
       "4           5  180.8   10.8       58.4   12.9"
      ]
     },
     "execution_count": 7,
     "metadata": {},
     "output_type": "execute_result"
    }
   ],
   "source": [
    "df = pd.read_csv('Data/Advertising.csv')\n",
    "df.head()"
   ]
  },
  {
   "cell_type": "markdown",
   "metadata": {},
   "source": [
    "### 1. Explain the dataset"
   ]
  },
  {
   "cell_type": "code",
   "execution_count": 3,
   "metadata": {
    "colab": {
     "base_uri": "https://localhost:8080/"
    },
    "executionInfo": {
     "elapsed": 11,
     "status": "ok",
     "timestamp": 1639835226220,
     "user": {
      "displayName": "Amal VN",
      "photoUrl": "https://lh3.googleusercontent.com/a-/AOh14Giqfv8rYeyOS-3h8egmuxipOyEmwoUQjixzxi6S=s64",
      "userId": "06605838277080622472"
     },
     "user_tz": -330
    },
    "id": "mlgkF6-1yoot",
    "outputId": "365645dc-a377-461c-ea6b-dd90f7af21f0"
   },
   "outputs": [
    {
     "name": "stdout",
     "output_type": "stream",
     "text": [
      "<class 'pandas.core.frame.DataFrame'>\n",
      "RangeIndex: 200 entries, 0 to 199\n",
      "Data columns (total 5 columns):\n",
      " #   Column      Non-Null Count  Dtype  \n",
      "---  ------      --------------  -----  \n",
      " 0   Unnamed: 0  200 non-null    int64  \n",
      " 1   TV          200 non-null    float64\n",
      " 2   Radio       200 non-null    float64\n",
      " 3   Newspaper   200 non-null    float64\n",
      " 4   Sales       200 non-null    float64\n",
      "dtypes: float64(4), int64(1)\n",
      "memory usage: 7.9 KB\n"
     ]
    }
   ],
   "source": [
    "df.info()"
   ]
  },
  {
   "cell_type": "markdown",
   "metadata": {},
   "source": [
    "#### Insights:\n",
    "- The data contains 200 rows and 5 columns\n",
    "- The dataset appears not to have null values\n",
    "- The data contains amount spent on advertisement through various platforms like TV, Radio, & Newspaper"
   ]
  },
  {
   "cell_type": "code",
   "execution_count": 11,
   "metadata": {},
   "outputs": [],
   "source": [
    "df.drop('Unnamed: 0', axis=1, inplace=True)"
   ]
  },
  {
   "cell_type": "markdown",
   "metadata": {},
   "source": [
    "Dropping unnecessary column : Unnamed"
   ]
  },
  {
   "cell_type": "markdown",
   "metadata": {},
   "source": [
    "### 2. Checking Summary statistics"
   ]
  },
  {
   "cell_type": "code",
   "execution_count": 14,
   "metadata": {
    "colab": {
     "base_uri": "https://localhost:8080/",
     "height": 300
    },
    "executionInfo": {
     "elapsed": 475,
     "status": "ok",
     "timestamp": 1639835429609,
     "user": {
      "displayName": "Amal VN",
      "photoUrl": "https://lh3.googleusercontent.com/a-/AOh14Giqfv8rYeyOS-3h8egmuxipOyEmwoUQjixzxi6S=s64",
      "userId": "06605838277080622472"
     },
     "user_tz": -330
    },
    "id": "vXChiJ-zy-qS",
    "outputId": "7d7e335c-6f22-485a-eb14-f99b73c3e70b"
   },
   "outputs": [
    {
     "data": {
      "text/html": [
       "<div>\n",
       "<style scoped>\n",
       "    .dataframe tbody tr th:only-of-type {\n",
       "        vertical-align: middle;\n",
       "    }\n",
       "\n",
       "    .dataframe tbody tr th {\n",
       "        vertical-align: top;\n",
       "    }\n",
       "\n",
       "    .dataframe thead th {\n",
       "        text-align: right;\n",
       "    }\n",
       "</style>\n",
       "<table border=\"1\" class=\"dataframe\">\n",
       "  <thead>\n",
       "    <tr style=\"text-align: right;\">\n",
       "      <th></th>\n",
       "      <th>TV</th>\n",
       "      <th>Radio</th>\n",
       "      <th>Newspaper</th>\n",
       "    </tr>\n",
       "  </thead>\n",
       "  <tbody>\n",
       "    <tr>\n",
       "      <th>count</th>\n",
       "      <td>200.000000</td>\n",
       "      <td>200.000000</td>\n",
       "      <td>200.000000</td>\n",
       "    </tr>\n",
       "    <tr>\n",
       "      <th>mean</th>\n",
       "      <td>147.042500</td>\n",
       "      <td>23.264000</td>\n",
       "      <td>30.554000</td>\n",
       "    </tr>\n",
       "    <tr>\n",
       "      <th>std</th>\n",
       "      <td>85.854236</td>\n",
       "      <td>14.846809</td>\n",
       "      <td>21.778621</td>\n",
       "    </tr>\n",
       "    <tr>\n",
       "      <th>min</th>\n",
       "      <td>0.700000</td>\n",
       "      <td>0.000000</td>\n",
       "      <td>0.300000</td>\n",
       "    </tr>\n",
       "    <tr>\n",
       "      <th>25%</th>\n",
       "      <td>74.375000</td>\n",
       "      <td>9.975000</td>\n",
       "      <td>12.750000</td>\n",
       "    </tr>\n",
       "    <tr>\n",
       "      <th>50%</th>\n",
       "      <td>149.750000</td>\n",
       "      <td>22.900000</td>\n",
       "      <td>25.750000</td>\n",
       "    </tr>\n",
       "    <tr>\n",
       "      <th>75%</th>\n",
       "      <td>218.825000</td>\n",
       "      <td>36.525000</td>\n",
       "      <td>45.100000</td>\n",
       "    </tr>\n",
       "    <tr>\n",
       "      <th>max</th>\n",
       "      <td>296.400000</td>\n",
       "      <td>49.600000</td>\n",
       "      <td>114.000000</td>\n",
       "    </tr>\n",
       "  </tbody>\n",
       "</table>\n",
       "</div>"
      ],
      "text/plain": [
       "               TV       Radio   Newspaper\n",
       "count  200.000000  200.000000  200.000000\n",
       "mean   147.042500   23.264000   30.554000\n",
       "std     85.854236   14.846809   21.778621\n",
       "min      0.700000    0.000000    0.300000\n",
       "25%     74.375000    9.975000   12.750000\n",
       "50%    149.750000   22.900000   25.750000\n",
       "75%    218.825000   36.525000   45.100000\n",
       "max    296.400000   49.600000  114.000000"
      ]
     },
     "execution_count": 14,
     "metadata": {},
     "output_type": "execute_result"
    }
   ],
   "source": [
    "df[['TV', 'Radio','Newspaper']].describe()"
   ]
  },
  {
   "cell_type": "markdown",
   "metadata": {},
   "source": [
    "#### Insights:\n",
    "- Average, maximum, minimum, median, percentile amount spent on adverting through:\n",
    "\n",
    "> TV - $\\mu_{1}$:147.04, $\\sigma_{1}$: 85.85\n",
    "\n",
    "> Radio - $\\mu_{2}$: 23.26, $\\sigma_{2}$: 14.85\n",
    "\n",
    "> Newspaper - $\\mu_{3}$: 30.55, $\\sigma_{3}$: 21.78 \n",
    "- Means vary greatly across each group\n",
    "- Maximum amount of advertisement spent through TV\n",
    "- Least amount spent through Radio\n",
    "- Median amount spent through TV adv:149.75, Radio: 22.9, Newspaper: 25.75"
   ]
  },
  {
   "cell_type": "markdown",
   "metadata": {},
   "source": [
    "### 3. Comparing amount spent through each media"
   ]
  },
  {
   "cell_type": "markdown",
   "metadata": {},
   "source": [
    "To compare multiple means we use ANOVA Test"
   ]
  },
  {
   "cell_type": "markdown",
   "metadata": {},
   "source": [
    "- $H_{0}$ : Average amount spent through each media is same; that is: $\\mu_{1}$ = $\\mu_{2}$ = $\\mu_{3}$\n",
    "- $H_{a}$ : Averages are not equal; that is: $\\mu_{1}$ $\\neq$ $\\mu_{2}$ $\\neq$ $\\mu_{3}$\n",
    "- Significance level $\\alpha$: 0.05"
   ]
  },
  {
   "cell_type": "code",
   "execution_count": 5,
   "metadata": {
    "executionInfo": {
     "elapsed": 10,
     "status": "ok",
     "timestamp": 1639835722967,
     "user": {
      "displayName": "Amal VN",
      "photoUrl": "https://lh3.googleusercontent.com/a-/AOh14Giqfv8rYeyOS-3h8egmuxipOyEmwoUQjixzxi6S=s64",
      "userId": "06605838277080622472"
     },
     "user_tz": -330
    },
    "id": "hW1XK8UWzuO0"
   },
   "outputs": [],
   "source": [
    "F_value , p_value = stats.f_oneway(df['TV'], df['Radio'], df['Newspaper'])"
   ]
  },
  {
   "cell_type": "code",
   "execution_count": 17,
   "metadata": {
    "colab": {
     "base_uri": "https://localhost:8080/"
    },
    "executionInfo": {
     "elapsed": 488,
     "status": "ok",
     "timestamp": 1639835750072,
     "user": {
      "displayName": "Amal VN",
      "photoUrl": "https://lh3.googleusercontent.com/a-/AOh14Giqfv8rYeyOS-3h8egmuxipOyEmwoUQjixzxi6S=s64",
      "userId": "06605838277080622472"
     },
     "user_tz": -330
    },
    "id": "c7sJlZm902Al",
    "outputId": "b6dd59f8-4f5e-40d3-c063-8d6528047cd5"
   },
   "outputs": [
    {
     "name": "stdout",
     "output_type": "stream",
     "text": [
      "\n",
      "The f value is:  358.851\n",
      "\n",
      "The p value for the given f value assuming the null hypothesis is true is:  4.552931539744962e-103\n"
     ]
    }
   ],
   "source": [
    "print('\\nThe f value is: ', round(F_value, 3))\n",
    "print('\\nThe p value for the given f value assuming the null hypothesis is true is: ', p_value)"
   ]
  },
  {
   "cell_type": "markdown",
   "metadata": {},
   "source": [
    "#### Insights:\n",
    "- The p value is very smaller than the significance value $\\alpha$ = 0.05\n",
    "- We therefore reject the null hypothesis that the means are equal."
   ]
  },
  {
   "cell_type": "markdown",
   "metadata": {},
   "source": [
    "### Conclusion:\n",
    "> The amount spent on advertisement through TV, Radio and Newspaper are not equal"
   ]
  }
 ],
 "metadata": {
  "colab": {
   "authorship_tag": "ABX9TyPeEwrOxdW0utPyA+fjc0I3",
   "name": "week9group.ipynb",
   "provenance": []
  },
  "kernelspec": {
   "display_name": "Python 3",
   "language": "python",
   "name": "python3"
  },
  "language_info": {
   "codemirror_mode": {
    "name": "ipython",
    "version": 3
   },
   "file_extension": ".py",
   "mimetype": "text/x-python",
   "name": "python",
   "nbconvert_exporter": "python",
   "pygments_lexer": "ipython3",
   "version": "3.8.8"
  }
 },
 "nbformat": 4,
 "nbformat_minor": 1
}
