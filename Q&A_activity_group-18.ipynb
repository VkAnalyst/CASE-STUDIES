{
  "nbformat": 4,
  "nbformat_minor": 0,
  "metadata": {
    "kernelspec": {
      "display_name": "Python 3",
      "language": "python",
      "name": "python3"
    },
    "language_info": {
      "codemirror_mode": {
        "name": "ipython",
        "version": 3
      },
      "file_extension": ".py",
      "mimetype": "text/x-python",
      "name": "python",
      "nbconvert_exporter": "python",
      "pygments_lexer": "ipython3",
      "version": "3.7.6"
    },
    "colab": {
      "name": "Q&A activity student file.ipynb",
      "provenance": [],
      "collapsed_sections": []
    }
  },
  "cells": [
    {
      "cell_type": "markdown",
      "metadata": {
        "id": "4z_Z-K1tlrS7"
      },
      "source": [
        "## 1. Complete the following code to find the area of an equilateral triangle. Output should be as displayed"
      ]
    },
    {
      "cell_type": "code",
      "metadata": {
        "id": "rP2qFD_SlrS_",
        "colab": {
          "base_uri": "https://localhost:8080/"
        },
        "outputId": "97c96567-0d47-4a32-ef39-627feb52202d"
      },
      "source": [
        "import math\n",
        "side = float(input(\"Enter the side of the equilateral triangle: \"))\n",
        "area = ((math.sqrt(3))/4)*pow(side,2)\n",
        "print(f\"Area of the triangle is: {round(area,2)}\")"
      ],
      "execution_count": 44,
      "outputs": [
        {
          "output_type": "stream",
          "name": "stdout",
          "text": [
            "Enter the side of the equilateral triangle: 15\n",
            "Area of the triangle is: 97.43\n"
          ]
        }
      ]
    },
    {
      "cell_type": "markdown",
      "metadata": {
        "id": "TjVKjIfclrTB"
      },
      "source": [
        "## 2. Write a program to count the number of each characters in a string"
      ]
    },
    {
      "cell_type": "code",
      "metadata": {
        "id": "JY5seVUQlrTC",
        "colab": {
          "base_uri": "https://localhost:8080/"
        },
        "outputId": "d3f6c660-aa15-4a4b-afd5-8397481abef1"
      },
      "source": [
        "q2_list = []\n",
        "q2_string = input(\"Enter the string: \")\n",
        "for i in q2_string:\n",
        "    if i not in q2_list:\n",
        "        print(f\"{i} = {q2_string.count(i)}\", end=\" \")\n",
        "        q2_list.append(i)"
      ],
      "execution_count": 45,
      "outputs": [
        {
          "output_type": "stream",
          "name": "stdout",
          "text": [
            "Enter the string: kamehameha\n",
            "k = 1 a = 3 m = 2 e = 2 h = 2 "
          ]
        }
      ]
    },
    {
      "cell_type": "markdown",
      "metadata": {
        "id": "l3LCULfklrTD"
      },
      "source": [
        "##3. Write a program to find the area and perimeter of a rectangle using functions"
      ]
    },
    {
      "cell_type": "code",
      "metadata": {
        "id": "8haQD8edlrTD",
        "colab": {
          "base_uri": "https://localhost:8080/"
        },
        "outputId": "8a78913c-6eec-4719-dc03-e0bc2aaae5f4"
      },
      "source": [
        "def rect_area(in_length, in_width):\n",
        "    return in_length * in_width\n",
        "def rect_perim(in_length, in_width):\n",
        "    perimeter = 2*(in_length + in_width)\n",
        "    return perimeter\n",
        "rect_length = float(input(\"Enter the length of the rectangle: \"))\n",
        "rect_width = float(input(\"Enter the width of the rectangle: \"))\n",
        "print(f\"Area is {rect_area(rect_length, rect_width)}.\")\n",
        "print(f\"Perimeter is {rect_perim(rect_length, rect_width)}\")"
      ],
      "execution_count": 46,
      "outputs": [
        {
          "output_type": "stream",
          "name": "stdout",
          "text": [
            "Enter the length of the rectangle: 15\n",
            "Enter the width of the rectangle: 12\n",
            "Area is 180.0.\n",
            "Perimeter is 54.0\n"
          ]
        }
      ]
    },
    {
      "cell_type": "markdown",
      "metadata": {
        "id": "JHK4ZdsflrTE"
      },
      "source": [
        "## 4. Write a program to print the fibonacci series till a specified number"
      ]
    },
    {
      "cell_type": "code",
      "metadata": {
        "id": "LyBEj-4SlrTE",
        "colab": {
          "base_uri": "https://localhost:8080/"
        },
        "outputId": "2ab50f12-4620-4403-a211-a711528d0233"
      },
      "source": [
        "fibonacci = []\n",
        "initial = 0\n",
        "next_num = 1\n",
        "user_num = int(input(\"Enter the specific number: \"))\n",
        "for i in range(0, user_num):\n",
        "    fibonacci.append(next_num)\n",
        "    next_num += initial\n",
        "    initial = fibonacci[i]\n",
        "    print(fibonacci[i], end=\" \")"
      ],
      "execution_count": 47,
      "outputs": [
        {
          "output_type": "stream",
          "name": "stdout",
          "text": [
            "Enter the specific number: 15\n",
            "1 1 2 3 5 8 13 21 34 55 89 144 233 377 610 "
          ]
        }
      ]
    },
    {
      "cell_type": "markdown",
      "metadata": {
        "id": "u4uBUcQKlrTE"
      },
      "source": [
        "## 5. Complete the following code to find the minimum of 3 number using conditional statements. Output should be as displayed"
      ]
    },
    {
      "cell_type": "code",
      "metadata": {
        "id": "XdZwrZjIlrTF",
        "colab": {
          "base_uri": "https://localhost:8080/"
        },
        "outputId": "fd56ff09-77be-471d-fe95-58f796574605"
      },
      "source": [
        "a,b,c = input(\"Enter three numbers followed by  : \").split()\n",
        "a = int(a); b = int(b); c = int(c)\n",
        "print(\"First number :\",a)\n",
        "print(\"Second number :\",b)\n",
        "print(\"Third number :\",c)\n",
        "if a == b and b == c:\n",
        "    print(\"Entered numbers are equal!!!\")\n",
        "elif a < b and a < c:\n",
        "    print(a,\" is smallest\")\n",
        "elif b < a and b < c:\n",
        "    print(b,\" is smallest\")\n",
        "else:\n",
        "    print(c,\" is smallest\")"
      ],
      "execution_count": 51,
      "outputs": [
        {
          "output_type": "stream",
          "name": "stdout",
          "text": [
            "Enter three numbers followed by  : 15 12 9\n",
            "First number : 15\n",
            "Second number : 12\n",
            "Third number : 9\n",
            "9  is smallest\n"
          ]
        }
      ]
    },
    {
      "cell_type": "markdown",
      "metadata": {
        "id": "aR_CnToWlrTG"
      },
      "source": [
        "## 6. Write a program to print star pyramind. The number of rows should be taken as input from the user"
      ]
    },
    {
      "cell_type": "code",
      "metadata": {
        "id": "M37A-buplrTG",
        "colab": {
          "base_uri": "https://localhost:8080/"
        },
        "outputId": "bb31f00c-30c2-459e-cf45-12010d1e852b"
      },
      "source": [
        "def pyramid(n):\n",
        "    spc = n - 1\n",
        "    for i in range(0, n):\n",
        "        print(\" \" * spc, \"* \" * (i+1))\n",
        "        spc -= 1\n",
        "q6_input = int(input(\"Enter number of rows: \"))\n",
        "pyramid(q6_input)"
      ],
      "execution_count": 52,
      "outputs": [
        {
          "output_type": "stream",
          "name": "stdout",
          "text": [
            "Enter number of rows: 6\n",
            "      * \n",
            "     * * \n",
            "    * * * \n",
            "   * * * * \n",
            "  * * * * * \n",
            " * * * * * * \n"
          ]
        }
      ]
    },
    {
      "cell_type": "markdown",
      "metadata": {
        "id": "tlY6aFWBlrTH"
      },
      "source": [
        "## 7. Complete the following code to convert hour into seconds. Output should be as displayed"
      ]
    },
    {
      "cell_type": "code",
      "metadata": {
        "id": "YOZQFk7FlrTH",
        "colab": {
          "base_uri": "https://localhost:8080/"
        },
        "outputId": "c0b6b3ae-6f3b-4915-f0ce-092fe1c5433a"
      },
      "source": [
        "def to_seconds(t):\n",
        "    t *= (60 * 60)\n",
        "    return t\n",
        "time_in_hours = int(input(\"Enter the number of hours: \"))\n",
        "print(time_in_hours ,\" Hour(s) is equal to\" ,to_seconds(time_in_hours) ,\" Seconds\")"
      ],
      "execution_count": 62,
      "outputs": [
        {
          "output_type": "stream",
          "name": "stdout",
          "text": [
            "Enter the number of hours: 5\n",
            "5  Hour(s) is equal to 18000  Seconds\n"
          ]
        }
      ]
    },
    {
      "cell_type": "markdown",
      "metadata": {
        "id": "CnYorNiLlrTI"
      },
      "source": [
        "## 8. Write a program to print multiplication table as below"
      ]
    },
    {
      "cell_type": "code",
      "metadata": {
        "id": "dPQqDPuDlrTI",
        "colab": {
          "base_uri": "https://localhost:8080/"
        },
        "outputId": "8ab53d24-c46e-472a-9ac2-05b7ecbb2a8a"
      },
      "source": [
        "def mult(b):\n",
        "    k = 0\n",
        "    for i in range(1, 11):\n",
        "        print(f\"{b} * {i} = {b*i}\")\n",
        "q8_input = int(input(\"Enter the number: \"))\n",
        "mult(q8_input)"
      ],
      "execution_count": 54,
      "outputs": [
        {
          "output_type": "stream",
          "name": "stdout",
          "text": [
            "Enter the number: 9\n",
            "9 * 1 = 9\n",
            "9 * 2 = 18\n",
            "9 * 3 = 27\n",
            "9 * 4 = 36\n",
            "9 * 5 = 45\n",
            "9 * 6 = 54\n",
            "9 * 7 = 63\n",
            "9 * 8 = 72\n",
            "9 * 9 = 81\n",
            "9 * 10 = 90\n"
          ]
        }
      ]
    },
    {
      "cell_type": "markdown",
      "metadata": {
        "id": "Fiaez8iblrTI"
      },
      "source": [
        "## 9. Write a program to take your 5 favorite food as list and print each as 'I like Biriyani'"
      ]
    },
    {
      "cell_type": "code",
      "metadata": {
        "id": "39W1zFX7lrTJ",
        "colab": {
          "base_uri": "https://localhost:8080/"
        },
        "outputId": "1ed36894-0edf-4ee1-c527-8832c0e59eb6"
      },
      "source": [
        "for i in range(0, 5):\n",
        "    fav_food[i] = input(f\"Enter your favourite food item number {i+1}: \")\n",
        "for food in fav_food:\n",
        "    print(f\"I like {food}\")"
      ],
      "execution_count": 57,
      "outputs": [
        {
          "output_type": "stream",
          "name": "stdout",
          "text": [
            "Enter your favourite food item number 1: bonda\n",
            "Enter your favourite food item number 2: large bonda\n",
            "Enter your favourite food item number 3: extra large bonda\n",
            "Enter your favourite food item number 4: bonda with cheese\n",
            "Enter your favourite food item number 5: bonda with meat\n",
            "I like bonda\n",
            "I like large bonda\n",
            "I like extra large bonda\n",
            "I like bonda with cheese\n",
            "I like bonda with meat\n"
          ]
        }
      ]
    },
    {
      "cell_type": "markdown",
      "metadata": {
        "id": "3vlcDNNEP7d_"
      },
      "source": [
        "## 10. Find error(s) in the following code(if any) and rewrite code.\n",
        "\n"
      ]
    },
    {
      "cell_type": "code",
      "metadata": {
        "id": "coREkcY3P9sG",
        "colab": {
          "base_uri": "https://localhost:8080/"
        },
        "outputId": "f06518ba-8a09-4578-ad11-77e5d0a3d7cf"
      },
      "source": [
        "x = int(input(\"Enter value of x: \"))\n",
        "for y in range(0, 10):\n",
        "     if x == y:\n",
        "          print(f\"They are equal when {y} = {x}\")\n",
        "          break\n",
        "else:\n",
        "    print( f\"They are unequal; {x} not in 0 - 9!\")"
      ],
      "execution_count": 61,
      "outputs": [
        {
          "output_type": "stream",
          "name": "stdout",
          "text": [
            "Enter value of x: 13\n",
            "They are unequal; 13 not in 0 - 9!\n"
          ]
        }
      ]
    }
  ]
}
